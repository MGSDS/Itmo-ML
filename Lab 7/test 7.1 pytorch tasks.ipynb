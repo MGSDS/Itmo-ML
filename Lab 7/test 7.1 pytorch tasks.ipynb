{
 "cells": [
  {
   "cell_type": "markdown",
   "metadata": {
    "id": "vcnGdgw_YJ8u"
   },
   "source": [
    "# PyTorch. Основы: синтаксис, torch.cuda и torch.autograd\n",
    "\n",
    "## Задание 7.1"
   ]
  },
  {
   "cell_type": "code",
   "execution_count": 1,
   "metadata": {
    "id": "RtyozNmmYJ89"
   },
   "outputs": [],
   "source": [
    "import torch\n",
    "from torch.autograd import Variable\n",
    "import matplotlib.pyplot as plt"
   ]
  },
  {
   "cell_type": "markdown",
   "metadata": {
    "id": "ny4-Qi2wYJ-6"
   },
   "source": [
    "### Задача 1"
   ]
  },
  {
   "cell_type": "markdown",
   "metadata": {
    "id": "IWxlFq0bYJ-_"
   },
   "source": [
    "1). Создайте два вещественных тензора: `a` размером (3, 4) и `b` размером (12,)   \n",
    "2). Создайте тензор `c`, являющийся тензором `b`, но размера (2, 2, 3)  \n",
    "3). Выведите первый столбец матрицы `a` с помощью индексации"
   ]
  },
  {
   "cell_type": "code",
   "execution_count": 2,
   "metadata": {
    "id": "3oxZuk3yYJ_A"
   },
   "outputs": [
    {
     "data": {
      "text/plain": [
       "(tensor([[0.3444, 0.1867, 0.8294, 0.3474],\n",
       "         [0.6556, 0.6352, 0.5498, 0.5826],\n",
       "         [0.0528, 0.1973, 0.3807, 0.2695]], dtype=torch.float64),\n",
       " tensor([0.1535, 0.9860, 0.2600, 0.0333, 0.4019, 0.6408, 0.2740, 0.0537, 0.3452,\n",
       "         0.2535, 0.8354, 0.9333], dtype=torch.float64))"
      ]
     },
     "execution_count": 2,
     "metadata": {},
     "output_type": "execute_result"
    }
   ],
   "source": [
    "a = torch.rand((3, 4), dtype=torch.float64)\n",
    "b = torch.rand((12,), dtype=torch.float64)\n",
    "\n",
    "a, b"
   ]
  },
  {
   "cell_type": "code",
   "execution_count": 3,
   "metadata": {},
   "outputs": [
    {
     "data": {
      "text/plain": [
       "tensor([[[0.1535, 0.9860, 0.2600],\n",
       "         [0.0333, 0.4019, 0.6408]],\n",
       "\n",
       "        [[0.2740, 0.0537, 0.3452],\n",
       "         [0.2535, 0.8354, 0.9333]]], dtype=torch.float64)"
      ]
     },
     "execution_count": 3,
     "metadata": {},
     "output_type": "execute_result"
    }
   ],
   "source": [
    "c = b.reshape(2, 2, 3)\n",
    "\n",
    "c"
   ]
  },
  {
   "cell_type": "code",
   "execution_count": 4,
   "metadata": {},
   "outputs": [
    {
     "data": {
      "text/plain": [
       "tensor([0.3444, 0.6556, 0.0528], dtype=torch.float64)"
      ]
     },
     "execution_count": 4,
     "metadata": {},
     "output_type": "execute_result"
    }
   ],
   "source": [
    "a[:, 0]"
   ]
  },
  {
   "cell_type": "markdown",
   "metadata": {
    "id": "D2IP_FrKYKAA"
   },
   "source": [
    "### Задача 2"
   ]
  },
  {
   "cell_type": "markdown",
   "metadata": {
    "id": "tBZFbSYQYKAA"
   },
   "source": [
    "1). Создайте два вещественных тензора: `a` размером (5, 2) и `b` размером (1,10)   \n",
    "2). Создайте тензор `c`, являющийся тензором `b`, но размера (5, 2)  \n",
    "3). Произведите все арифметические операции с тензорами `a` и `c`"
   ]
  },
  {
   "cell_type": "code",
   "execution_count": 5,
   "metadata": {
    "id": "hzs2bH3GYKAB"
   },
   "outputs": [
    {
     "data": {
      "text/plain": [
       "(tensor([[0.2108, 0.3462],\n",
       "         [0.4802, 0.7703],\n",
       "         [0.2830, 0.9881],\n",
       "         [0.3021, 0.3315],\n",
       "         [0.3840, 0.0253]], dtype=torch.float64),\n",
       " tensor([[0.5966, 0.6304, 0.8186, 0.7431, 0.6530, 0.2132, 0.7933, 0.0117, 0.6708,\n",
       "          0.7435]], dtype=torch.float64))"
      ]
     },
     "execution_count": 5,
     "metadata": {},
     "output_type": "execute_result"
    }
   ],
   "source": [
    "a = torch.rand((5, 2), dtype=torch.float64)\n",
    "b = torch.rand((1, 10), dtype=torch.float64)\n",
    "\n",
    "a, b"
   ]
  },
  {
   "cell_type": "code",
   "execution_count": 6,
   "metadata": {},
   "outputs": [],
   "source": [
    "c = b.reshape((5, 2))"
   ]
  },
  {
   "cell_type": "code",
   "execution_count": 7,
   "metadata": {},
   "outputs": [
    {
     "data": {
      "text/plain": [
       "tensor([[0.8074, 0.9766],\n",
       "        [1.2988, 1.5133],\n",
       "        [0.9360, 1.2013],\n",
       "        [1.0954, 0.3432],\n",
       "        [1.0548, 0.7687]], dtype=torch.float64)"
      ]
     },
     "execution_count": 7,
     "metadata": {},
     "output_type": "execute_result"
    }
   ],
   "source": [
    "a + c"
   ]
  },
  {
   "cell_type": "code",
   "execution_count": 8,
   "metadata": {},
   "outputs": [
    {
     "data": {
      "text/plain": [
       "tensor([[-0.3858, -0.2842],\n",
       "        [-0.3383,  0.0272],\n",
       "        [-0.3700,  0.7748],\n",
       "        [-0.4912,  0.3198],\n",
       "        [-0.2867, -0.7182]], dtype=torch.float64)"
      ]
     },
     "execution_count": 8,
     "metadata": {},
     "output_type": "execute_result"
    }
   ],
   "source": [
    "a - c"
   ]
  },
  {
   "cell_type": "code",
   "execution_count": 9,
   "metadata": {},
   "outputs": [
    {
     "data": {
      "text/plain": [
       "tensor([[0.1258, 0.2182],\n",
       "        [0.3931, 0.5724],\n",
       "        [0.1848, 0.2107],\n",
       "        [0.2396, 0.0039],\n",
       "        [0.2576, 0.0188]], dtype=torch.float64)"
      ]
     },
     "execution_count": 9,
     "metadata": {},
     "output_type": "execute_result"
    }
   ],
   "source": [
    "a * c"
   ]
  },
  {
   "cell_type": "code",
   "execution_count": 10,
   "metadata": {},
   "outputs": [
    {
     "data": {
      "text/plain": [
       "tensor([[0.3440, 0.4298, 0.2115, 0.1713, 0.3988],\n",
       "        [0.7721, 0.9655, 0.4779, 0.3900, 0.8948],\n",
       "        [0.7917, 0.9658, 0.3955, 0.2361, 0.9244],\n",
       "        [0.3892, 0.4936, 0.2679, 0.2435, 0.4491],\n",
       "        [0.2451, 0.3331, 0.2562, 0.3050, 0.2764]], dtype=torch.float64)"
      ]
     },
     "execution_count": 10,
     "metadata": {},
     "output_type": "execute_result"
    }
   ],
   "source": [
    "a @ c.T"
   ]
  },
  {
   "cell_type": "code",
   "execution_count": 11,
   "metadata": {},
   "outputs": [
    {
     "data": {
      "text/plain": [
       "tensor([[ 0.3533,  0.5492],\n",
       "        [ 0.5867,  1.0366],\n",
       "        [ 0.4334,  4.6333],\n",
       "        [ 0.3808, 28.3044],\n",
       "        [ 0.5725,  0.0340]], dtype=torch.float64)"
      ]
     },
     "execution_count": 11,
     "metadata": {},
     "output_type": "execute_result"
    }
   ],
   "source": [
    "a / c"
   ]
  },
  {
   "cell_type": "markdown",
   "metadata": {
    "id": "rIaroFO6YKBT"
   },
   "source": [
    "### Задача 3"
   ]
  },
  {
   "cell_type": "markdown",
   "metadata": {
    "id": "GfLHVvKvYKBT"
   },
   "source": [
    "1). Создайте тензор *целых чисел* `images` размерности (100, 200, 200, 3) (можно интерпретировать это как 100 картинок размера 200х200 с тремя цветовыми каналами, то есть 100 цветных изображений 200х200). Заполните его нулями  \n",
    "\n",
    "2). Сделайте так, чтобы у $i$-ой по порядку картинки была нарисована белая полоса толщиной два пикселя в строках, которые соответствуют номеру картинки. Например, у 3-ей по порядку картинки белая полоска будет занимать 6 и 7 строки, у 99 - 198 и 199. Сделать белую строку можно, записав в ячейки тензора число 255 (по всем трём каналам). Выведите несколько примеров с помощью `pylot`  \n",
    "\n",
    "3). Посчитайте среднее тензора `images` по 1-ой оси (по сути - средняя картинка), умножьте полученный тензор на 70. Нарисуйте с помощью `pyplot`, должна получиться серая картинка (при взятии среднего нужно привести тензор к float с помощью `.float()`, при отрисовке обратно к int с помощью `.int()`)"
   ]
  },
  {
   "cell_type": "code",
   "execution_count": 12,
   "metadata": {
    "id": "pZVGHEQQYKBU"
   },
   "outputs": [],
   "source": [
    "images = torch.zeros((100, 200, 200, 3), dtype=torch.int)"
   ]
  },
  {
   "cell_type": "code",
   "execution_count": 13,
   "metadata": {},
   "outputs": [],
   "source": [
    "def draw_line(img, line):\n",
    "    img[2*line:2*line+2] = 255\n",
    "    return img"
   ]
  },
  {
   "cell_type": "code",
   "execution_count": 14,
   "metadata": {},
   "outputs": [],
   "source": [
    "max_val = int(2 ** 8 - 1)\n",
    "for i in range(images.shape[0]):\n",
    "    images[i, 2*i:2*i+2] = max_val"
   ]
  },
  {
   "cell_type": "code",
   "execution_count": 15,
   "metadata": {},
   "outputs": [
    {
     "data": {
      "text/plain": [
       "<matplotlib.image.AxesImage at 0x1aa0dcf7010>"
      ]
     },
     "execution_count": 15,
     "metadata": {},
     "output_type": "execute_result"
    },
    {
     "data": {
      "image/png": "[encoded data removed]",
      "text/plain": [
       "<Figure size 432x288 with 1 Axes>"
      ]
     },
     "metadata": {
      "needs_background": "light"
     },
     "output_type": "display_data"
    }
   ],
   "source": [
    "plt.imshow(images[10])"
   ]
  },
  {
   "cell_type": "code",
   "execution_count": 16,
   "metadata": {},
   "outputs": [
    {
     "data": {
      "text/plain": [
       "<matplotlib.image.AxesImage at 0x1aa10be0c40>"
      ]
     },
     "execution_count": 16,
     "metadata": {},
     "output_type": "execute_result"
    },
    {
     "data": {
      "image/png": "[encoded data removed]",
      "text/plain": [
       "<Figure size 432x288 with 1 Axes>"
      ]
     },
     "metadata": {
      "needs_background": "light"
     },
     "output_type": "display_data"
    }
   ],
   "source": [
    "plt.imshow((images.float().mean(0) * 70).int())"
   ]
  },
  {
   "cell_type": "markdown",
   "metadata": {
    "id": "oQnhq5ZdYKCu"
   },
   "source": [
    "### Задача 4"
   ]
  },
  {
   "cell_type": "markdown",
   "metadata": {
    "id": "UB95BhgTYKCu"
   },
   "source": [
    "- В Colab нажмите в меню сверху: `Runtime` -> `Change Runtime Type` -> `GPU`, где изначально стоит `None` (`Среда выполнение` - `Сменить среду выполнения`)\n",
    "- Объявите тензор `a` размера (2, 3, 4) и тензор `b` размера (1, 8, 3) на GPU, иницилизируйте их случайно равномерно (`.uniform_()`)\n",
    "- Затем измените форму тензора `b`, чтобы она совпадала с формой тензора `a`, получите тензор `c`  \n",
    "- Переместите `c` на CPU, переместите `a` на CPU  \n",
    "- Оберните их в `Variable()`\n",
    "- Объявите тензор `L = torch.mean((c - a) `**` 2)` и посчитайте градиент `L` по `c` ( то есть $\\frac{\\partial{L}}{\\partial{c}})$\n",
    "- Выведите градиент `L` по `c`"
   ]
  },
  {
   "cell_type": "code",
   "execution_count": 17,
   "metadata": {
    "id": "WESOm5TCYKCv"
   },
   "outputs": [
    {
     "name": "stdout",
     "output_type": "stream",
     "text": [
      "Sat Dec  3 13:35:35 2022       \n",
      "+-----------------------------------------------------------------------------+\n",
      "| NVIDIA-SMI 522.06       Driver Version: 522.06       CUDA Version: 11.8     |\n",
      "|-------------------------------+----------------------+----------------------+\n",
      "| GPU  Name            TCC/WDDM | Bus-Id        Disp.A | Volatile Uncorr. ECC |\n",
      "| Fan  Temp  Perf  Pwr:Usage/Cap|         Memory-Usage | GPU-Util  Compute M. |\n",
      "|                               |                      |               MIG M. |\n",
      "|===============================+======================+======================|\n",
      "|   0  NVIDIA GeForce ... WDDM  | 00000000:01:00.0  On |                  N/A |\n",
      "| N/A   51C    P0    35W /  N/A |   1862MiB / 16384MiB |     10%      Default |\n",
      "|                               |                      |                  N/A |\n",
      "+-------------------------------+----------------------+----------------------+\n",
      "                                                                               \n",
      "+-----------------------------------------------------------------------------+\n",
      "| Processes:                                                                  |\n",
      "|  GPU   GI   CI        PID   Type   Process name                  GPU Memory |\n",
      "|        ID   ID                                                   Usage      |\n",
      "|=============================================================================|\n",
      "|    0   N/A  N/A       424    C+G   ...\\PowerToys.FancyZones.exe    N/A      |\n",
      "|    0   N/A  N/A      1396    C+G   ...n1h2txyewy\\SearchHost.exe    N/A      |\n",
      "|    0   N/A  N/A      9344    C+G   ...werToys.ColorPickerUI.exe    N/A      |\n",
      "|    0   N/A  N/A     13184    C+G   ...2txyewy\\TextInputHost.exe    N/A      |\n",
      "|    0   N/A  N/A     22704    C+G   ...Container\\nvcontainer.exe    N/A      |\n",
      "|    0   N/A  N/A     23284    C+G   C:\\Windows\\explorer.exe         N/A      |\n",
      "|    0   N/A  N/A     23408      C   ...mera\\NVIDIA Broadcast.exe    N/A      |\n",
      "|    0   N/A  N/A     29536    C+G   ...perience\\NVIDIA Share.exe    N/A      |\n",
      "|    0   N/A  N/A     34280    C+G   ...8bbwe\\WindowsTerminal.exe    N/A      |\n",
      "+-----------------------------------------------------------------------------+\n"
     ]
    }
   ],
   "source": [
    "if not torch.cuda.is_available():\n",
    "    raise RuntimeError('Cuda is not available')\n",
    "else:\n",
    "    !nvidia-smi\n",
    "    device = 'cuda:0'"
   ]
  },
  {
   "cell_type": "code",
   "execution_count": 18,
   "metadata": {},
   "outputs": [
    {
     "data": {
      "text/plain": [
       "(tensor([[[0.2358, 0.6664, 0.4162, 0.9269],\n",
       "          [0.4712, 0.1060, 0.6235, 0.7950],\n",
       "          [0.8905, 0.9289, 0.0250, 0.2439]],\n",
       " \n",
       "         [[0.6541, 0.6985, 0.0080, 0.2567],\n",
       "          [0.5082, 0.3684, 0.8729, 0.2241],\n",
       "          [0.0281, 0.5484, 0.7721, 0.7114]]], device='cuda:0'),\n",
       " tensor([[[0.7529, 0.8509, 0.4057],\n",
       "          [0.3853, 0.2030, 0.3183],\n",
       "          [0.4102, 0.4611, 0.3773],\n",
       "          [0.6180, 0.4620, 0.5175],\n",
       "          [0.5234, 0.6932, 0.1501],\n",
       "          [0.2481, 0.6734, 0.7836],\n",
       "          [0.7492, 0.3851, 0.4094],\n",
       "          [0.0715, 0.0657, 0.1488]]], device='cuda:0'))"
      ]
     },
     "execution_count": 18,
     "metadata": {},
     "output_type": "execute_result"
    }
   ],
   "source": [
    "a = torch.rand((2, 3, 4), device=device)\n",
    "b = torch.rand((1, 8, 3), device=device)\n",
    "a, b"
   ]
  },
  {
   "cell_type": "code",
   "execution_count": 19,
   "metadata": {},
   "outputs": [
    {
     "data": {
      "text/plain": [
       "(torch.Size([2, 3, 4]), torch.Size([2, 3, 4]))"
      ]
     },
     "execution_count": 19,
     "metadata": {},
     "output_type": "execute_result"
    }
   ],
   "source": [
    "c = b.reshape(a.shape)\n",
    "\n",
    "a.shape, c.shape"
   ]
  },
  {
   "cell_type": "code",
   "execution_count": 20,
   "metadata": {},
   "outputs": [
    {
     "data": {
      "text/plain": [
       "(device(type='cpu'), device(type='cpu'))"
      ]
     },
     "execution_count": 20,
     "metadata": {},
     "output_type": "execute_result"
    }
   ],
   "source": [
    "a = a.cpu()\n",
    "c = c.cpu()\n",
    "\n",
    "a.device, c.device"
   ]
  },
  {
   "cell_type": "code",
   "execution_count": 21,
   "metadata": {},
   "outputs": [
    {
     "data": {
      "text/plain": [
       "(tensor([[[0.2358, 0.6664, 0.4162, 0.9269],\n",
       "          [0.4712, 0.1060, 0.6235, 0.7950],\n",
       "          [0.8905, 0.9289, 0.0250, 0.2439]],\n",
       " \n",
       "         [[0.6541, 0.6985, 0.0080, 0.2567],\n",
       "          [0.5082, 0.3684, 0.8729, 0.2241],\n",
       "          [0.0281, 0.5484, 0.7721, 0.7114]]]),\n",
       " tensor([[[0.7529, 0.8509, 0.4057, 0.3853],\n",
       "          [0.2030, 0.3183, 0.4102, 0.4611],\n",
       "          [0.3773, 0.6180, 0.4620, 0.5175]],\n",
       " \n",
       "         [[0.5234, 0.6932, 0.1501, 0.2481],\n",
       "          [0.6734, 0.7836, 0.7492, 0.3851],\n",
       "          [0.4094, 0.0715, 0.0657, 0.1488]]], requires_grad=True))"
      ]
     },
     "execution_count": 21,
     "metadata": {},
     "output_type": "execute_result"
    }
   ],
   "source": [
    "a = Variable(a)\n",
    "c = Variable(c, requires_grad=True)\n",
    "\n",
    "a, c"
   ]
  },
  {
   "cell_type": "code",
   "execution_count": 22,
   "metadata": {},
   "outputs": [],
   "source": [
    "L = torch.mean((c - a)**2)\n",
    "L.backward()"
   ]
  },
  {
   "cell_type": "code",
   "execution_count": 23,
   "metadata": {},
   "outputs": [
    {
     "data": {
      "text/plain": [
       "tensor([[[ 0.0431,  0.0154, -0.0009, -0.0451],\n",
       "         [-0.0223,  0.0177, -0.0178, -0.0278],\n",
       "         [-0.0428, -0.0259,  0.0364,  0.0228]],\n",
       "\n",
       "        [[-0.0109, -0.0004,  0.0118, -0.0007],\n",
       "         [ 0.0138,  0.0346, -0.0103,  0.0134],\n",
       "         [ 0.0318, -0.0397, -0.0589, -0.0469]]])"
      ]
     },
     "execution_count": 23,
     "metadata": {},
     "output_type": "execute_result"
    }
   ],
   "source": [
    "c.grad"
   ]
  }
 ],
 "metadata": {
  "colab": {
   "name": "test 7.1 pytorch tasks.ipynb",
   "provenance": [
    {
     "file_id": "13LvGfU8uIZ5jmVM4WdVA9KktFhwZLCHq",
     "timestamp": 1606675349064
    }
   ]
  },
  "kernelspec": {
   "display_name": "lab7",
   "language": "python",
   "name": "lab7"
  },
  "language_info": {
   "codemirror_mode": {
    "name": "ipython",
    "version": 3
   },
   "file_extension": ".py",
   "mimetype": "text/x-python",
   "name": "python",
   "nbconvert_exporter": "python",
   "pygments_lexer": "ipython3",
   "version": "3.10.4"
  }
 },
 "nbformat": 4,
 "nbformat_minor": 4
}
